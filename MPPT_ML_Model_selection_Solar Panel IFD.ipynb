{
 "cells": [
  {
   "cell_type": "code",
   "execution_count": 1,
   "id": "92e1afee",
   "metadata": {},
   "outputs": [],
   "source": [
    "import pandas as pd\n",
    "import numpy as np\n",
    "import matplotlib.pyplot as plt\n",
    "import seaborn as sns\n",
    "\n",
    "from sklearn.decomposition import PCA\n",
    "from sklearn.svm import SVC\n",
    "from sklearn.linear_model import LogisticRegression\n",
    "from sklearn.tree import DecisionTreeClassifier\n",
    "from sklearn.ensemble import RandomForestClassifier\n",
    "from sklearn.neighbors import KNeighborsClassifier\n",
    "from sklearn.naive_bayes import GaussianNB\n",
    "\n",
    "from sklearn.model_selection import train_test_split,cross_val_score,KFold,ShuffleSplit\n",
    "from sklearn.metrics import confusion_matrix, ConfusionMatrixDisplay,classification_report,accuracy_score\n",
    "from sklearn.preprocessing import StandardScaler\n",
    "\n",
    "\n",
    "plt.rcParams.update({'font.size':14})\n",
    "plt.rcParams.update({\"font.family\" : \"Times new roman\"})"
   ]
  },
  {
   "cell_type": "markdown",
   "id": "6be10170",
   "metadata": {},
   "source": [
    "# Import The Maximum Power Dataset"
   ]
  },
  {
   "cell_type": "code",
   "execution_count": 13,
   "id": "dc5f84e2",
   "metadata": {},
   "outputs": [
    {
     "data": {
      "text/html": [
       "<div>\n",
       "<style scoped>\n",
       "    .dataframe tbody tr th:only-of-type {\n",
       "        vertical-align: middle;\n",
       "    }\n",
       "\n",
       "    .dataframe tbody tr th {\n",
       "        vertical-align: top;\n",
       "    }\n",
       "\n",
       "    .dataframe thead th {\n",
       "        text-align: right;\n",
       "    }\n",
       "</style>\n",
       "<table border=\"1\" class=\"dataframe\">\n",
       "  <thead>\n",
       "    <tr style=\"text-align: right;\">\n",
       "      <th></th>\n",
       "      <th>Time</th>\n",
       "      <th>Ipv</th>\n",
       "      <th>Vpv</th>\n",
       "      <th>Vdc</th>\n",
       "      <th>ia</th>\n",
       "      <th>ib</th>\n",
       "      <th>ic</th>\n",
       "      <th>va</th>\n",
       "      <th>vb</th>\n",
       "      <th>vc</th>\n",
       "      <th>Iabc</th>\n",
       "      <th>If</th>\n",
       "      <th>Vabc</th>\n",
       "      <th>Vf</th>\n",
       "      <th>label</th>\n",
       "    </tr>\n",
       "  </thead>\n",
       "  <tbody>\n",
       "    <tr>\n",
       "      <th>0</th>\n",
       "      <td>0.000041</td>\n",
       "      <td>2.369843</td>\n",
       "      <td>90.429688</td>\n",
       "      <td>147.949219</td>\n",
       "      <td>0.616820</td>\n",
       "      <td>-0.530396</td>\n",
       "      <td>-0.160283</td>\n",
       "      <td>-146.003418</td>\n",
       "      <td>120.255127</td>\n",
       "      <td>25.595601</td>\n",
       "      <td>1.000000</td>\n",
       "      <td>50.000000</td>\n",
       "      <td>1.000000</td>\n",
       "      <td>50.000000</td>\n",
       "      <td>F0M</td>\n",
       "    </tr>\n",
       "    <tr>\n",
       "      <th>1</th>\n",
       "      <td>0.010040</td>\n",
       "      <td>2.378357</td>\n",
       "      <td>90.368652</td>\n",
       "      <td>148.242188</td>\n",
       "      <td>-0.678956</td>\n",
       "      <td>0.570679</td>\n",
       "      <td>0.047847</td>\n",
       "      <td>148.546906</td>\n",
       "      <td>-119.881439</td>\n",
       "      <td>-24.723663</td>\n",
       "      <td>1.000000</td>\n",
       "      <td>50.000000</td>\n",
       "      <td>1.000000</td>\n",
       "      <td>50.000000</td>\n",
       "      <td>F0M</td>\n",
       "    </tr>\n",
       "    <tr>\n",
       "      <th>2</th>\n",
       "      <td>0.020039</td>\n",
       "      <td>2.373627</td>\n",
       "      <td>90.460205</td>\n",
       "      <td>148.535156</td>\n",
       "      <td>0.603393</td>\n",
       "      <td>-0.537109</td>\n",
       "      <td>-0.187139</td>\n",
       "      <td>-145.027008</td>\n",
       "      <td>120.315399</td>\n",
       "      <td>26.109924</td>\n",
       "      <td>1.000000</td>\n",
       "      <td>50.000000</td>\n",
       "      <td>1.000000</td>\n",
       "      <td>50.000000</td>\n",
       "      <td>F0M</td>\n",
       "    </tr>\n",
       "    <tr>\n",
       "      <th>3</th>\n",
       "      <td>0.030038</td>\n",
       "      <td>2.368896</td>\n",
       "      <td>90.423584</td>\n",
       "      <td>148.242188</td>\n",
       "      <td>-0.685670</td>\n",
       "      <td>0.570679</td>\n",
       "      <td>0.041133</td>\n",
       "      <td>147.341461</td>\n",
       "      <td>-119.736786</td>\n",
       "      <td>-26.105906</td>\n",
       "      <td>0.440380</td>\n",
       "      <td>50.078491</td>\n",
       "      <td>118.275197</td>\n",
       "      <td>49.921509</td>\n",
       "      <td>F0M</td>\n",
       "    </tr>\n",
       "    <tr>\n",
       "      <th>4</th>\n",
       "      <td>0.040037</td>\n",
       "      <td>2.362274</td>\n",
       "      <td>90.435791</td>\n",
       "      <td>148.242188</td>\n",
       "      <td>0.630248</td>\n",
       "      <td>-0.523682</td>\n",
       "      <td>-0.166997</td>\n",
       "      <td>-143.279114</td>\n",
       "      <td>120.942230</td>\n",
       "      <td>26.680501</td>\n",
       "      <td>0.618996</td>\n",
       "      <td>50.248673</td>\n",
       "      <td>90.022162</td>\n",
       "      <td>49.606494</td>\n",
       "      <td>F0M</td>\n",
       "    </tr>\n",
       "  </tbody>\n",
       "</table>\n",
       "</div>"
      ],
      "text/plain": [
       "       Time       Ipv        Vpv         Vdc        ia        ib        ic  \\\n",
       "0  0.000041  2.369843  90.429688  147.949219  0.616820 -0.530396 -0.160283   \n",
       "1  0.010040  2.378357  90.368652  148.242188 -0.678956  0.570679  0.047847   \n",
       "2  0.020039  2.373627  90.460205  148.535156  0.603393 -0.537109 -0.187139   \n",
       "3  0.030038  2.368896  90.423584  148.242188 -0.685670  0.570679  0.041133   \n",
       "4  0.040037  2.362274  90.435791  148.242188  0.630248 -0.523682 -0.166997   \n",
       "\n",
       "           va          vb         vc      Iabc         If        Vabc  \\\n",
       "0 -146.003418  120.255127  25.595601  1.000000  50.000000    1.000000   \n",
       "1  148.546906 -119.881439 -24.723663  1.000000  50.000000    1.000000   \n",
       "2 -145.027008  120.315399  26.109924  1.000000  50.000000    1.000000   \n",
       "3  147.341461 -119.736786 -26.105906  0.440380  50.078491  118.275197   \n",
       "4 -143.279114  120.942230  26.680501  0.618996  50.248673   90.022162   \n",
       "\n",
       "          Vf label  \n",
       "0  50.000000   F0M  \n",
       "1  50.000000   F0M  \n",
       "2  50.000000   F0M  \n",
       "3  49.921509   F0M  \n",
       "4  49.606494   F0M  "
      ]
     },
     "execution_count": 13,
     "metadata": {},
     "output_type": "execute_result"
    }
   ],
   "source": [
    "df=pd.read_csv(r'H:\\Solar_panel_IFD\\PreProcessed Data\\Max_solar_data.csv')\n",
    "\n",
    "\n",
    "\n",
    "df.head()"
   ]
  },
  {
   "cell_type": "markdown",
   "id": "161f1016",
   "metadata": {},
   "source": [
    "# Divide the dataset into Train-test split  and do the standard scalling"
   ]
  },
  {
   "cell_type": "code",
   "execution_count": 14,
   "id": "91df2463",
   "metadata": {},
   "outputs": [],
   "source": [
    "def split_transform(df,split_ratio):\n",
    "    X=df.iloc[:,1:-1]\n",
    "    Y=df.iloc[:,-1]\n",
    "    X_train,X_test,y_train,y_test = train_test_split(X,Y,test_size=split_ratio,shuffle=True)\n",
    "\n",
    "    scaler=StandardScaler()\n",
    "    X_sc_train = scaler.fit_transform(X_train)\n",
    "    X_sc_test = scaler.transform(X_test)\n",
    "\n",
    "    print(\"The number of samples in the Training set is {}\".format(len(X_sc_train)))\n",
    "    print(\"The number of samples in the Test set is {}\".format(len(X_sc_test)))\n",
    "    \n",
    "    return  X_sc_train, X_sc_test,y_train,y_test,scaler"
   ]
  },
  {
   "cell_type": "code",
   "execution_count": 15,
   "id": "49d229bd",
   "metadata": {},
   "outputs": [
    {
     "name": "stdout",
     "output_type": "stream",
     "text": [
      "The number of samples in the Training set is 10690\n",
      "The number of samples in the Test set is 11\n"
     ]
    }
   ],
   "source": [
    "X_sc_train, X_sc_test,y_train,y_test,scaler = split_transform(df,split_ratio=0.001)"
   ]
  },
  {
   "cell_type": "markdown",
   "id": "1bf06704",
   "metadata": {},
   "source": [
    "# Do Model training"
   ]
  },
  {
   "cell_type": "code",
   "execution_count": 16,
   "id": "2a8d0fec",
   "metadata": {},
   "outputs": [],
   "source": [
    "def Model_with_cross_val(df,clf,k_fold,test_size):\n",
    "    # Split transform the data\n",
    "    X_sc_train, X_sc_test,y_train,y_test,scaler = split_transform(df,split_ratio=0.01)\n",
    "    print(\"\")\n",
    "    #Generate k-fold with shuffled split\n",
    "    cv = ShuffleSplit(n_splits=k_fold, test_size=test_size)\n",
    "    \n",
    "    # get score for each split\n",
    "    scores = cross_val_score(clf, X_sc_train,y_train, cv=cv, n_jobs=-1)\n",
    "    \n",
    "    #print scores with mean and std\n",
    "    print(scores)\n",
    "    \n",
    "    print(\"{} accuracy with a standard deviation of {}\".format(np.mean(scores),np.std(scores)))\n",
    "    print(\"\")\n",
    "\n",
    "\n"
   ]
  },
  {
   "cell_type": "markdown",
   "id": "cbaff712",
   "metadata": {},
   "source": [
    "# Random Forest"
   ]
  },
  {
   "cell_type": "code",
   "execution_count": 18,
   "id": "ef0a5472",
   "metadata": {},
   "outputs": [
    {
     "name": "stdout",
     "output_type": "stream",
     "text": [
      "The number of samples in the Training set is 10593\n",
      "The number of samples in the Test set is 108\n",
      "\n",
      "[0.99307741 0.99307741 0.9940214  0.99496539 0.99370673]\n",
      "0.9937696664568911 accuracy with a standard deviation of 0.000700788466057882\n",
      "\n"
     ]
    }
   ],
   "source": [
    "clf = RandomForestClassifier()\n",
    "Model_with_cross_val(df=df,clf=clf,k_fold=5,test_size=0.3)"
   ]
  },
  {
   "cell_type": "markdown",
   "id": "09955703",
   "metadata": {},
   "source": [
    "# Decision Trees"
   ]
  },
  {
   "cell_type": "code",
   "execution_count": 19,
   "id": "78058f6b",
   "metadata": {},
   "outputs": [
    {
     "name": "stdout",
     "output_type": "stream",
     "text": [
      "The number of samples in the Training set is 10593\n",
      "The number of samples in the Test set is 108\n",
      "\n",
      "[0.97608559 0.98426683 0.9811202  0.97577093 0.9776589 ]\n",
      "0.9789804908747641 accuracy with a standard deviation of 0.003254294140679157\n",
      "\n"
     ]
    }
   ],
   "source": [
    "clf = DecisionTreeClassifier()\n",
    "Model_with_cross_val(df=df,clf=clf,k_fold=5,test_size=0.3)"
   ]
  },
  {
   "cell_type": "markdown",
   "id": "477bcc40",
   "metadata": {},
   "source": [
    "# SVM"
   ]
  },
  {
   "cell_type": "code",
   "execution_count": 8,
   "id": "f80816c5",
   "metadata": {},
   "outputs": [
    {
     "name": "stdout",
     "output_type": "stream",
     "text": [
      "The number of samples in the Training set is 10593\n",
      "The number of samples in the Test set is 108\n",
      "\n",
      "[0.92983008 0.93108874 0.92353682 0.89332914 0.93706734]\n",
      "0.9229704216488358 accuracy with a standard deviation of 0.015431211930637526\n",
      "\n"
     ]
    }
   ],
   "source": [
    "clf = SVC()\n",
    "Model_with_cross_val(df=df,clf=clf,k_fold=5,test_size=0.3)"
   ]
  },
  {
   "cell_type": "markdown",
   "id": "53687291",
   "metadata": {},
   "source": [
    "# KNN"
   ]
  },
  {
   "cell_type": "code",
   "execution_count": 20,
   "id": "ba89c910",
   "metadata": {},
   "outputs": [
    {
     "name": "stdout",
     "output_type": "stream",
     "text": [
      "The number of samples in the Training set is 10593\n",
      "The number of samples in the Test set is 108\n",
      "\n",
      "[0.94650724 0.94273128 0.94147262 0.94052863 0.94493392]\n",
      "0.9432347388294524 accuracy with a standard deviation of 0.002203542026433195\n",
      "\n"
     ]
    }
   ],
   "source": [
    "clf = KNeighborsClassifier(n_neighbors=5)\n",
    "Model_with_cross_val(df=df,clf=clf,k_fold=5,test_size=0.3)"
   ]
  },
  {
   "cell_type": "markdown",
   "id": "92192b83",
   "metadata": {},
   "source": [
    "# Logistic Reg"
   ]
  },
  {
   "cell_type": "code",
   "execution_count": 22,
   "id": "10e622c7",
   "metadata": {
    "scrolled": true
   },
   "outputs": [
    {
     "name": "stdout",
     "output_type": "stream",
     "text": [
      "The number of samples in the Training set is 10593\n",
      "The number of samples in the Test set is 108\n",
      "\n",
      "[0.84959094 0.86406545 0.85431089 0.85494021 0.86123348]\n",
      "0.8568281938325992 accuracy with a standard deviation of 0.0051781000454938\n",
      "\n"
     ]
    }
   ],
   "source": [
    "clf = LogisticRegression()\n",
    "Model_with_cross_val(df=df,clf=clf,k_fold=5,test_size=0.3)"
   ]
  },
  {
   "cell_type": "markdown",
   "id": "3d3aaa7a",
   "metadata": {},
   "source": [
    "# Naive Byes"
   ]
  },
  {
   "cell_type": "code",
   "execution_count": 23,
   "id": "0151ab69",
   "metadata": {
    "scrolled": true
   },
   "outputs": [
    {
     "name": "stdout",
     "output_type": "stream",
     "text": [
      "The number of samples in the Training set is 10593\n",
      "The number of samples in the Test set is 108\n",
      "\n",
      "[0.75424795 0.76148521 0.77155444 0.76651982 0.75582127]\n",
      "0.7619257394587791 accuracy with a standard deviation of 0.006484202327195098\n",
      "\n"
     ]
    }
   ],
   "source": [
    "clf = GaussianNB()\n",
    "Model_with_cross_val(df=df,clf=clf,k_fold=5,test_size=0.3)"
   ]
  },
  {
   "cell_type": "markdown",
   "id": "6a0e84ad",
   "metadata": {},
   "source": [
    "# Do prediction with best performing Model"
   ]
  },
  {
   "cell_type": "code",
   "execution_count": 24,
   "id": "ead58307",
   "metadata": {},
   "outputs": [
    {
     "name": "stdout",
     "output_type": "stream",
     "text": [
      "The number of samples in the Training set is 8560\n",
      "The number of samples in the Test set is 2141\n"
     ]
    },
    {
     "data": {
      "text/plain": [
       "<sklearn.metrics._plot.confusion_matrix.ConfusionMatrixDisplay at 0x25165b789a0>"
      ]
     },
     "execution_count": 24,
     "metadata": {},
     "output_type": "execute_result"
    },
    {
     "data": {
      "image/png": "[encoded data removed]",
      "text/plain": [
       "<Figure size 720x720 with 2 Axes>"
      ]
     },
     "metadata": {
      "needs_background": "light"
     },
     "output_type": "display_data"
    },
    {
     "data": {
      "image/png": "[encoded data removed]",
      "text/plain": [
       "<Figure size 432x288 with 2 Axes>"
      ]
     },
     "metadata": {
      "needs_background": "light"
     },
     "output_type": "display_data"
    }
   ],
   "source": [
    "X_sc_train, X_sc_test,y_train,y_test,scaler = split_transform(df,split_ratio=0.2)\n",
    "\n",
    "Model = RandomForestClassifier()\n",
    "Model.fit(X_sc_train,y_train)\n",
    "\n",
    "fig, ax = plt.subplots(figsize=(10,10))\n",
    "disp = ConfusionMatrixDisplay.from_estimator(\n",
    "    Model,\n",
    "    X_sc_test,\n",
    "    y_test,\n",
    "    display_labels=Model.classes_,\n",
    "    cmap=plt.cm.Reds\n",
    ")\n",
    "\n",
    "\n",
    "disp.plot(ax=ax)\n"
   ]
  },
  {
   "cell_type": "code",
   "execution_count": null,
   "id": "286276e5",
   "metadata": {},
   "outputs": [],
   "source": []
  }
 ],
 "metadata": {
  "kernelspec": {
   "display_name": "Python 3.8 (tensorflow)",
   "language": "python",
   "name": "tensorflow"
  },
  "language_info": {
   "codemirror_mode": {
    "name": "ipython",
    "version": 3
   },
   "file_extension": ".py",
   "mimetype": "text/x-python",
   "name": "python",
   "nbconvert_exporter": "python",
   "pygments_lexer": "ipython3",
   "version": "3.8.12"
  }
 },
 "nbformat": 4,
 "nbformat_minor": 5
}
