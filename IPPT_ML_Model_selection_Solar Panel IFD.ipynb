{
 "cells": [
  {
   "cell_type": "code",
   "execution_count": 2,
   "id": "92e1afee",
   "metadata": {},
   "outputs": [],
   "source": [
    "import pandas as pd\n",
    "import numpy as np\n",
    "import matplotlib.pyplot as plt\n",
    "import seaborn as sns\n",
    "\n",
    "from sklearn.decomposition import PCA\n",
    "from sklearn.svm import SVC\n",
    "from sklearn.linear_model import LogisticRegression\n",
    "from sklearn.tree import DecisionTreeClassifier\n",
    "from sklearn.ensemble import RandomForestClassifier\n",
    "from sklearn.neighbors import KNeighborsClassifier\n",
    "from sklearn.naive_bayes import GaussianNB\n",
    "\n",
    "from sklearn.model_selection import train_test_split,cross_val_score,KFold,ShuffleSplit\n",
    "from sklearn.metrics import confusion_matrix, ConfusionMatrixDisplay,classification_report,accuracy_score\n",
    "from sklearn.preprocessing import StandardScaler\n",
    "\n",
    "\n",
    "plt.rcParams.update({'font.size':14})\n",
    "plt.rcParams.update({\"font.family\" : \"Times new roman\"})"
   ]
  },
  {
   "cell_type": "markdown",
   "id": "6be10170",
   "metadata": {},
   "source": [
    "# Import The Limited Power Dataset"
   ]
  },
  {
   "cell_type": "code",
   "execution_count": 46,
   "id": "dc5f84e2",
   "metadata": {},
   "outputs": [
    {
     "data": {
      "text/html": [
       "<div>\n",
       "<style scoped>\n",
       "    .dataframe tbody tr th:only-of-type {\n",
       "        vertical-align: middle;\n",
       "    }\n",
       "\n",
       "    .dataframe tbody tr th {\n",
       "        vertical-align: top;\n",
       "    }\n",
       "\n",
       "    .dataframe thead th {\n",
       "        text-align: right;\n",
       "    }\n",
       "</style>\n",
       "<table border=\"1\" class=\"dataframe\">\n",
       "  <thead>\n",
       "    <tr style=\"text-align: right;\">\n",
       "      <th></th>\n",
       "      <th>Time</th>\n",
       "      <th>Ipv</th>\n",
       "      <th>Vpv</th>\n",
       "      <th>Vdc</th>\n",
       "      <th>ia</th>\n",
       "      <th>ib</th>\n",
       "      <th>ic</th>\n",
       "      <th>va</th>\n",
       "      <th>vb</th>\n",
       "      <th>vc</th>\n",
       "      <th>Iabc</th>\n",
       "      <th>If</th>\n",
       "      <th>Vabc</th>\n",
       "      <th>Vf</th>\n",
       "      <th>label</th>\n",
       "    </tr>\n",
       "  </thead>\n",
       "  <tbody>\n",
       "    <tr>\n",
       "      <th>0</th>\n",
       "      <td>0.000028</td>\n",
       "      <td>1.572327</td>\n",
       "      <td>101.348877</td>\n",
       "      <td>144.140625</td>\n",
       "      <td>-0.135133</td>\n",
       "      <td>0.490112</td>\n",
       "      <td>-0.354985</td>\n",
       "      <td>41.744537</td>\n",
       "      <td>-149.872894</td>\n",
       "      <td>109.064585</td>\n",
       "      <td>1.000000</td>\n",
       "      <td>50.000000</td>\n",
       "      <td>1.000000</td>\n",
       "      <td>50.000000</td>\n",
       "      <td>F0L</td>\n",
       "    </tr>\n",
       "    <tr>\n",
       "      <th>1</th>\n",
       "      <td>0.010027</td>\n",
       "      <td>1.539215</td>\n",
       "      <td>101.251221</td>\n",
       "      <td>143.261719</td>\n",
       "      <td>0.086425</td>\n",
       "      <td>-0.490112</td>\n",
       "      <td>0.349971</td>\n",
       "      <td>-42.311096</td>\n",
       "      <td>149.029083</td>\n",
       "      <td>-108.377482</td>\n",
       "      <td>1.000000</td>\n",
       "      <td>50.000000</td>\n",
       "      <td>1.000000</td>\n",
       "      <td>50.000000</td>\n",
       "      <td>F0L</td>\n",
       "    </tr>\n",
       "    <tr>\n",
       "      <th>2</th>\n",
       "      <td>0.020026</td>\n",
       "      <td>1.637604</td>\n",
       "      <td>101.031494</td>\n",
       "      <td>143.554688</td>\n",
       "      <td>-0.155274</td>\n",
       "      <td>0.469971</td>\n",
       "      <td>-0.307988</td>\n",
       "      <td>41.515503</td>\n",
       "      <td>-149.933167</td>\n",
       "      <td>109.104767</td>\n",
       "      <td>1.000000</td>\n",
       "      <td>50.000000</td>\n",
       "      <td>1.000000</td>\n",
       "      <td>50.000000</td>\n",
       "      <td>F0L</td>\n",
       "    </tr>\n",
       "    <tr>\n",
       "      <th>3</th>\n",
       "      <td>0.030025</td>\n",
       "      <td>1.577057</td>\n",
       "      <td>101.287842</td>\n",
       "      <td>142.968750</td>\n",
       "      <td>0.106566</td>\n",
       "      <td>-0.456543</td>\n",
       "      <td>0.336543</td>\n",
       "      <td>-42.106171</td>\n",
       "      <td>150.222473</td>\n",
       "      <td>-109.249420</td>\n",
       "      <td>0.461228</td>\n",
       "      <td>49.921509</td>\n",
       "      <td>151.655756</td>\n",
       "      <td>50.078264</td>\n",
       "      <td>F0L</td>\n",
       "    </tr>\n",
       "    <tr>\n",
       "      <th>4</th>\n",
       "      <td>0.040024</td>\n",
       "      <td>1.613007</td>\n",
       "      <td>101.049805</td>\n",
       "      <td>143.847656</td>\n",
       "      <td>-0.155274</td>\n",
       "      <td>0.456543</td>\n",
       "      <td>-0.314702</td>\n",
       "      <td>41.370850</td>\n",
       "      <td>-150.162201</td>\n",
       "      <td>109.245402</td>\n",
       "      <td>0.311221</td>\n",
       "      <td>49.594346</td>\n",
       "      <td>154.027080</td>\n",
       "      <td>50.193078</td>\n",
       "      <td>F0L</td>\n",
       "    </tr>\n",
       "  </tbody>\n",
       "</table>\n",
       "</div>"
      ],
      "text/plain": [
       "       Time       Ipv         Vpv         Vdc        ia        ib        ic  \\\n",
       "0  0.000028  1.572327  101.348877  144.140625 -0.135133  0.490112 -0.354985   \n",
       "1  0.010027  1.539215  101.251221  143.261719  0.086425 -0.490112  0.349971   \n",
       "2  0.020026  1.637604  101.031494  143.554688 -0.155274  0.469971 -0.307988   \n",
       "3  0.030025  1.577057  101.287842  142.968750  0.106566 -0.456543  0.336543   \n",
       "4  0.040024  1.613007  101.049805  143.847656 -0.155274  0.456543 -0.314702   \n",
       "\n",
       "          va          vb          vc      Iabc         If        Vabc  \\\n",
       "0  41.744537 -149.872894  109.064585  1.000000  50.000000    1.000000   \n",
       "1 -42.311096  149.029083 -108.377482  1.000000  50.000000    1.000000   \n",
       "2  41.515503 -149.933167  109.104767  1.000000  50.000000    1.000000   \n",
       "3 -42.106171  150.222473 -109.249420  0.461228  49.921509  151.655756   \n",
       "4  41.370850 -150.162201  109.245402  0.311221  49.594346  154.027080   \n",
       "\n",
       "          Vf label  \n",
       "0  50.000000   F0L  \n",
       "1  50.000000   F0L  \n",
       "2  50.000000   F0L  \n",
       "3  50.078264   F0L  \n",
       "4  50.193078   F0L  "
      ]
     },
     "execution_count": 46,
     "metadata": {},
     "output_type": "execute_result"
    }
   ],
   "source": [
    "df=pd.read_csv(r'H:\\Solar_panel_IFD\\PreProcessed Data\\Lim_solar_data.csv')\n",
    "\n",
    "\n",
    "df.head()"
   ]
  },
  {
   "cell_type": "markdown",
   "id": "161f1016",
   "metadata": {},
   "source": [
    "# Divide the dataset into Train-test split  and do the standard scalling"
   ]
  },
  {
   "cell_type": "code",
   "execution_count": 47,
   "id": "91df2463",
   "metadata": {},
   "outputs": [],
   "source": [
    "def split_transform(df,split_ratio):\n",
    "    X=df.iloc[:,1:-1]\n",
    "    Y=df.iloc[:,-1]\n",
    "    X_train,X_test,y_train,y_test = train_test_split(X,Y,test_size=split_ratio,shuffle=True)\n",
    "\n",
    "    scaler=StandardScaler()\n",
    "    X_sc_train = scaler.fit_transform(X_train)\n",
    "    X_sc_test = scaler.transform(X_test)\n",
    "\n",
    "    print(\"The number of samples in the Training set is {}\".format(len(X_sc_train)))\n",
    "    print(\"The number of samples in the Test set is {}\".format(len(X_sc_test)))\n",
    "    \n",
    "    return  X_sc_train, X_sc_test,y_train,y_test,scaler"
   ]
  },
  {
   "cell_type": "markdown",
   "id": "a448a1f2",
   "metadata": {},
   "source": [
    "# Do Model training"
   ]
  },
  {
   "cell_type": "code",
   "execution_count": 51,
   "id": "15192ebb",
   "metadata": {},
   "outputs": [],
   "source": [
    "def Model_with_cross_val(df,clf,k_fold,test_size):\n",
    "    # Split transform the data\n",
    "    X_sc_train, X_sc_test,y_train,y_test,scaler = split_transform(df,split_ratio=0.01)\n",
    "    print(\"\")\n",
    "    \n",
    "    #Generate k-fold with shuffled split\n",
    "    cv = ShuffleSplit(n_splits=k_fold, test_size=test_size)\n",
    "    \n",
    "    # get score for each split\n",
    "    scores = cross_val_score(clf, X_sc_train,y_train, cv=cv, n_jobs=-1)\n",
    "    \n",
    "    #print scores with mean and std\n",
    "    print(scores)\n",
    "    \n",
    "    print(\"{} accuracy with a standard deviation of {}\".format(np.mean(scores),np.std(scores)))\n",
    "    print(\"\")\n",
    "\n",
    "\n"
   ]
  },
  {
   "cell_type": "markdown",
   "id": "0cbec6dc",
   "metadata": {},
   "source": [
    "# Random Forest"
   ]
  },
  {
   "cell_type": "code",
   "execution_count": 52,
   "id": "9e680970",
   "metadata": {},
   "outputs": [
    {
     "name": "stdout",
     "output_type": "stream",
     "text": [
      "The number of samples in the Training set is 10825\n",
      "The number of samples in the Test set is 110\n",
      "\n",
      "[0.97598522 0.97444581 0.97937192 0.97783251 0.98183498]\n",
      "0.9778940886699508 accuracy with a standard deviation of 0.002578865959528537\n",
      "\n"
     ]
    }
   ],
   "source": [
    "clf = RandomForestClassifier()\n",
    "Model_with_cross_val(df=df,clf=clf,k_fold=5,test_size=0.3)"
   ]
  },
  {
   "cell_type": "markdown",
   "id": "af2bf53a",
   "metadata": {},
   "source": [
    "# Decision Trees"
   ]
  },
  {
   "cell_type": "code",
   "execution_count": 53,
   "id": "26fde3f7",
   "metadata": {},
   "outputs": [
    {
     "name": "stdout",
     "output_type": "stream",
     "text": [
      "The number of samples in the Training set is 10825\n",
      "The number of samples in the Test set is 110\n",
      "\n",
      "[0.94735222 0.9510468  0.95628079 0.94642857 0.94612069]\n",
      "0.9494458128078819 accuracy with a standard deviation of 0.003842482946261741\n",
      "\n"
     ]
    }
   ],
   "source": [
    "clf = DecisionTreeClassifier()\n",
    "Model_with_cross_val(df=df,clf=clf,k_fold=5,test_size=0.3)"
   ]
  },
  {
   "cell_type": "markdown",
   "id": "cceadeda",
   "metadata": {},
   "source": [
    "# SVM"
   ]
  },
  {
   "cell_type": "code",
   "execution_count": 54,
   "id": "7ef2a290",
   "metadata": {},
   "outputs": [
    {
     "name": "stdout",
     "output_type": "stream",
     "text": [
      "The number of samples in the Training set is 10825\n",
      "The number of samples in the Test set is 110\n",
      "\n",
      "[0.94334975 0.94304187 0.93934729 0.94150246 0.94334975]\n",
      "0.9421182266009852 accuracy with a standard deviation of 0.0015455542362082606\n",
      "\n"
     ]
    }
   ],
   "source": [
    "clf = SVC()\n",
    "Model_with_cross_val(df=df,clf=clf,k_fold=5,test_size=0.3)"
   ]
  },
  {
   "cell_type": "markdown",
   "id": "734464c4",
   "metadata": {},
   "source": [
    "# KNN"
   ]
  },
  {
   "cell_type": "code",
   "execution_count": 55,
   "id": "f0a099e0",
   "metadata": {},
   "outputs": [
    {
     "name": "stdout",
     "output_type": "stream",
     "text": [
      "The number of samples in the Training set is 10825\n",
      "The number of samples in the Test set is 110\n",
      "\n",
      "[0.9510468  0.95843596 0.94396552 0.94365764 0.95628079]\n",
      "0.950677339901478 accuracy with a standard deviation of 0.006100100665544565\n",
      "\n"
     ]
    }
   ],
   "source": [
    "clf = KNeighborsClassifier(n_neighbors=5)\n",
    "Model_with_cross_val(df=df,clf=clf,k_fold=5,test_size=0.3)"
   ]
  },
  {
   "cell_type": "markdown",
   "id": "1883825a",
   "metadata": {},
   "source": [
    "# Logistic Reg"
   ]
  },
  {
   "cell_type": "code",
   "execution_count": 56,
   "id": "a2387a7a",
   "metadata": {
    "scrolled": true
   },
   "outputs": [
    {
     "name": "stdout",
     "output_type": "stream",
     "text": [
      "The number of samples in the Training set is 10825\n",
      "The number of samples in the Test set is 110\n",
      "\n",
      "[0.67580049 0.69858374 0.67826355 0.69150246 0.68534483]\n",
      "0.685899014778325 accuracy with a standard deviation of 0.008401055037286862\n",
      "\n"
     ]
    }
   ],
   "source": [
    "clf = LogisticRegression()\n",
    "Model_with_cross_val(df=df,clf=clf,k_fold=5,test_size=0.3)"
   ]
  },
  {
   "cell_type": "markdown",
   "id": "7161027e",
   "metadata": {},
   "source": [
    "# Naive Byes"
   ]
  },
  {
   "cell_type": "code",
   "execution_count": 57,
   "id": "c3ac9ce3",
   "metadata": {
    "scrolled": true
   },
   "outputs": [
    {
     "name": "stdout",
     "output_type": "stream",
     "text": [
      "The number of samples in the Training set is 10825\n",
      "The number of samples in the Test set is 110\n",
      "\n",
      "[0.76077586 0.76169951 0.76939655 0.7737069  0.74784483]\n",
      "0.7626847290640394 accuracy with a standard deviation of 0.008847302983084632\n",
      "\n"
     ]
    }
   ],
   "source": [
    "clf = GaussianNB()\n",
    "Model_with_cross_val(df=df,clf=clf,k_fold=5,test_size=0.3)"
   ]
  },
  {
   "cell_type": "markdown",
   "id": "19f63a93",
   "metadata": {},
   "source": [
    "# Do prediction with best performing Model"
   ]
  },
  {
   "cell_type": "code",
   "execution_count": 58,
   "id": "f66c4e26",
   "metadata": {},
   "outputs": [
    {
     "data": {
      "text/plain": [
       "array(['F0L', 'F1L', 'F2L', 'F3L', 'F4L', 'F5L', 'F6L', 'F7L'],\n",
       "      dtype=object)"
      ]
     },
     "execution_count": 58,
     "metadata": {},
     "output_type": "execute_result"
    }
   ],
   "source": [
    "Model.classes_"
   ]
  },
  {
   "cell_type": "code",
   "execution_count": 59,
   "id": "ead58307",
   "metadata": {},
   "outputs": [
    {
     "name": "stdout",
     "output_type": "stream",
     "text": [
      "The number of samples in the Training set is 8748\n",
      "The number of samples in the Test set is 2187\n"
     ]
    },
    {
     "data": {
      "image/png": "[encoded data removed]",
      "text/plain": [
       "<Figure size 432x288 with 2 Axes>"
      ]
     },
     "metadata": {
      "needs_background": "light"
     },
     "output_type": "display_data"
    }
   ],
   "source": [
    "X_sc_train, X_sc_test,y_train,y_test,scaler = split_transform(df,split_ratio=0.2)\n",
    "\n",
    "Model = RandomForestClassifier()\n",
    "Model.fit(X_sc_train,y_train)\n",
    "\n",
    "\n",
    "\n",
    "disp = ConfusionMatrixDisplay.from_estimator(\n",
    "    Model,\n",
    "    X_sc_test,\n",
    "    y_test,\n",
    "    display_labels=Model.classes_)\n",
    "\n",
    "\n",
    "\n",
    "\n",
    "\n"
   ]
  },
  {
   "cell_type": "code",
   "execution_count": null,
   "id": "7333bed1",
   "metadata": {},
   "outputs": [],
   "source": []
  }
 ],
 "metadata": {
  "kernelspec": {
   "display_name": "Python 3.8 (tensorflow)",
   "language": "python",
   "name": "tensorflow"
  },
  "language_info": {
   "codemirror_mode": {
    "name": "ipython",
    "version": 3
   },
   "file_extension": ".py",
   "mimetype": "text/x-python",
   "name": "python",
   "nbconvert_exporter": "python",
   "pygments_lexer": "ipython3",
   "version": "3.8.12"
  }
 },
 "nbformat": 4,
 "nbformat_minor": 5
}
