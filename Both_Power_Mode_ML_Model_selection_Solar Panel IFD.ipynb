{
 "cells": [
  {
   "cell_type": "code",
   "execution_count": 1,
   "id": "92e1afee",
   "metadata": {},
   "outputs": [],
   "source": [
    "import pandas as pd\n",
    "import numpy as np\n",
    "import matplotlib.pyplot as plt\n",
    "import seaborn as sns\n",
    "\n",
    "\n",
    "from sklearn.svm import SVC\n",
    "from sklearn.tree import DecisionTreeClassifier\n",
    "from sklearn.metrics import confusion_matrix, ConfusionMatrixDisplay,classification_report,accuracy_score\n",
    "from sklearn.ensemble import RandomForestClassifier\n",
    "from sklearn.neighbors import KNeighborsClassifier\n",
    "from sklearn.naive_bayes import GaussianNB\n",
    "from sklearn.linear_model import LogisticRegression\n",
    "from sklearn.preprocessing import StandardScaler\n",
    "from sklearn.model_selection import train_test_split,cross_val_score,KFold,ShuffleSplit\n",
    "\n",
    "\n",
    "from sklearn.decomposition import PCA\n",
    "\n",
    "plt.rcParams.update({'font.size':14})\n",
    "plt.rcParams.update({\"font.family\" : \"Times new roman\"})"
   ]
  },
  {
   "cell_type": "markdown",
   "id": "6be10170",
   "metadata": {},
   "source": [
    "# Import Both the Datasets"
   ]
  },
  {
   "cell_type": "code",
   "execution_count": 2,
   "id": "dc5f84e2",
   "metadata": {},
   "outputs": [],
   "source": [
    "df1=pd.read_csv(r'H:\\Solar_panel_IFD\\PreProcessed Data\\Max_solar_data.csv')\n",
    "df2=pd.read_csv(r'H:\\Solar_panel_IFD\\PreProcessed Data\\Lim_solar_data.csv')\n",
    "\n",
    "df = pd.concat([df1,df2], ignore_index=True, axis=0)\n"
   ]
  },
  {
   "cell_type": "code",
   "execution_count": 3,
   "id": "f2d47ed0",
   "metadata": {},
   "outputs": [
    {
     "data": {
      "text/html": [
       "<div>\n",
       "<style scoped>\n",
       "    .dataframe tbody tr th:only-of-type {\n",
       "        vertical-align: middle;\n",
       "    }\n",
       "\n",
       "    .dataframe tbody tr th {\n",
       "        vertical-align: top;\n",
       "    }\n",
       "\n",
       "    .dataframe thead th {\n",
       "        text-align: right;\n",
       "    }\n",
       "</style>\n",
       "<table border=\"1\" class=\"dataframe\">\n",
       "  <thead>\n",
       "    <tr style=\"text-align: right;\">\n",
       "      <th></th>\n",
       "      <th>Time</th>\n",
       "      <th>Ipv</th>\n",
       "      <th>Vpv</th>\n",
       "      <th>Vdc</th>\n",
       "      <th>ia</th>\n",
       "      <th>ib</th>\n",
       "      <th>ic</th>\n",
       "      <th>va</th>\n",
       "      <th>vb</th>\n",
       "      <th>vc</th>\n",
       "      <th>Iabc</th>\n",
       "      <th>If</th>\n",
       "      <th>Vabc</th>\n",
       "      <th>Vf</th>\n",
       "      <th>label</th>\n",
       "    </tr>\n",
       "  </thead>\n",
       "  <tbody>\n",
       "    <tr>\n",
       "      <th>0</th>\n",
       "      <td>0.000041</td>\n",
       "      <td>2.369843</td>\n",
       "      <td>90.429688</td>\n",
       "      <td>147.949219</td>\n",
       "      <td>0.616820</td>\n",
       "      <td>-0.530396</td>\n",
       "      <td>-0.160283</td>\n",
       "      <td>-146.003418</td>\n",
       "      <td>120.255127</td>\n",
       "      <td>25.595601</td>\n",
       "      <td>1.000000</td>\n",
       "      <td>50.000000</td>\n",
       "      <td>1.000000</td>\n",
       "      <td>50.000000</td>\n",
       "      <td>F0M</td>\n",
       "    </tr>\n",
       "    <tr>\n",
       "      <th>1</th>\n",
       "      <td>0.010040</td>\n",
       "      <td>2.378357</td>\n",
       "      <td>90.368652</td>\n",
       "      <td>148.242188</td>\n",
       "      <td>-0.678956</td>\n",
       "      <td>0.570679</td>\n",
       "      <td>0.047847</td>\n",
       "      <td>148.546906</td>\n",
       "      <td>-119.881439</td>\n",
       "      <td>-24.723663</td>\n",
       "      <td>1.000000</td>\n",
       "      <td>50.000000</td>\n",
       "      <td>1.000000</td>\n",
       "      <td>50.000000</td>\n",
       "      <td>F0M</td>\n",
       "    </tr>\n",
       "    <tr>\n",
       "      <th>2</th>\n",
       "      <td>0.020039</td>\n",
       "      <td>2.373627</td>\n",
       "      <td>90.460205</td>\n",
       "      <td>148.535156</td>\n",
       "      <td>0.603393</td>\n",
       "      <td>-0.537109</td>\n",
       "      <td>-0.187139</td>\n",
       "      <td>-145.027008</td>\n",
       "      <td>120.315399</td>\n",
       "      <td>26.109924</td>\n",
       "      <td>1.000000</td>\n",
       "      <td>50.000000</td>\n",
       "      <td>1.000000</td>\n",
       "      <td>50.000000</td>\n",
       "      <td>F0M</td>\n",
       "    </tr>\n",
       "    <tr>\n",
       "      <th>3</th>\n",
       "      <td>0.030038</td>\n",
       "      <td>2.368896</td>\n",
       "      <td>90.423584</td>\n",
       "      <td>148.242188</td>\n",
       "      <td>-0.685670</td>\n",
       "      <td>0.570679</td>\n",
       "      <td>0.041133</td>\n",
       "      <td>147.341461</td>\n",
       "      <td>-119.736786</td>\n",
       "      <td>-26.105906</td>\n",
       "      <td>0.440380</td>\n",
       "      <td>50.078491</td>\n",
       "      <td>118.275197</td>\n",
       "      <td>49.921509</td>\n",
       "      <td>F0M</td>\n",
       "    </tr>\n",
       "    <tr>\n",
       "      <th>4</th>\n",
       "      <td>0.040037</td>\n",
       "      <td>2.362274</td>\n",
       "      <td>90.435791</td>\n",
       "      <td>148.242188</td>\n",
       "      <td>0.630248</td>\n",
       "      <td>-0.523682</td>\n",
       "      <td>-0.166997</td>\n",
       "      <td>-143.279114</td>\n",
       "      <td>120.942230</td>\n",
       "      <td>26.680501</td>\n",
       "      <td>0.618996</td>\n",
       "      <td>50.248673</td>\n",
       "      <td>90.022162</td>\n",
       "      <td>49.606494</td>\n",
       "      <td>F0M</td>\n",
       "    </tr>\n",
       "    <tr>\n",
       "      <th>...</th>\n",
       "      <td>...</td>\n",
       "      <td>...</td>\n",
       "      <td>...</td>\n",
       "      <td>...</td>\n",
       "      <td>...</td>\n",
       "      <td>...</td>\n",
       "      <td>...</td>\n",
       "      <td>...</td>\n",
       "      <td>...</td>\n",
       "      <td>...</td>\n",
       "      <td>...</td>\n",
       "      <td>...</td>\n",
       "      <td>...</td>\n",
       "      <td>...</td>\n",
       "      <td>...</td>\n",
       "    </tr>\n",
       "    <tr>\n",
       "      <th>21631</th>\n",
       "      <td>14.358892</td>\n",
       "      <td>1.531647</td>\n",
       "      <td>102.056885</td>\n",
       "      <td>142.675781</td>\n",
       "      <td>0.354979</td>\n",
       "      <td>-0.503540</td>\n",
       "      <td>0.148555</td>\n",
       "      <td>-108.381500</td>\n",
       "      <td>152.585144</td>\n",
       "      <td>-40.760091</td>\n",
       "      <td>0.519110</td>\n",
       "      <td>50.036816</td>\n",
       "      <td>155.672324</td>\n",
       "      <td>49.999645</td>\n",
       "      <td>F7L</td>\n",
       "    </tr>\n",
       "    <tr>\n",
       "      <th>21632</th>\n",
       "      <td>14.368891</td>\n",
       "      <td>1.565704</td>\n",
       "      <td>101.104736</td>\n",
       "      <td>143.261719</td>\n",
       "      <td>-0.403687</td>\n",
       "      <td>0.523682</td>\n",
       "      <td>-0.126714</td>\n",
       "      <td>110.756226</td>\n",
       "      <td>-149.559479</td>\n",
       "      <td>43.311615</td>\n",
       "      <td>0.519713</td>\n",
       "      <td>50.087054</td>\n",
       "      <td>155.706972</td>\n",
       "      <td>49.992937</td>\n",
       "      <td>F7L</td>\n",
       "    </tr>\n",
       "    <tr>\n",
       "      <th>21633</th>\n",
       "      <td>14.378890</td>\n",
       "      <td>1.501373</td>\n",
       "      <td>101.556396</td>\n",
       "      <td>142.968750</td>\n",
       "      <td>0.361693</td>\n",
       "      <td>-0.530396</td>\n",
       "      <td>0.182124</td>\n",
       "      <td>-108.803406</td>\n",
       "      <td>152.319946</td>\n",
       "      <td>-40.470785</td>\n",
       "      <td>0.522856</td>\n",
       "      <td>50.138598</td>\n",
       "      <td>155.636851</td>\n",
       "      <td>49.996147</td>\n",
       "      <td>F7L</td>\n",
       "    </tr>\n",
       "    <tr>\n",
       "      <th>21634</th>\n",
       "      <td>14.388889</td>\n",
       "      <td>1.492859</td>\n",
       "      <td>100.970459</td>\n",
       "      <td>143.847656</td>\n",
       "      <td>-0.396974</td>\n",
       "      <td>0.537109</td>\n",
       "      <td>-0.106572</td>\n",
       "      <td>110.720062</td>\n",
       "      <td>-150.451508</td>\n",
       "      <td>42.560221</td>\n",
       "      <td>0.525012</td>\n",
       "      <td>49.932554</td>\n",
       "      <td>155.571019</td>\n",
       "      <td>50.008771</td>\n",
       "      <td>F7L</td>\n",
       "    </tr>\n",
       "    <tr>\n",
       "      <th>21635</th>\n",
       "      <td>14.398888</td>\n",
       "      <td>1.516510</td>\n",
       "      <td>102.166748</td>\n",
       "      <td>142.968750</td>\n",
       "      <td>0.348266</td>\n",
       "      <td>-0.523682</td>\n",
       "      <td>0.188838</td>\n",
       "      <td>-108.586426</td>\n",
       "      <td>151.524353</td>\n",
       "      <td>-41.503448</td>\n",
       "      <td>0.525349</td>\n",
       "      <td>49.924121</td>\n",
       "      <td>155.553069</td>\n",
       "      <td>50.005752</td>\n",
       "      <td>F7L</td>\n",
       "    </tr>\n",
       "  </tbody>\n",
       "</table>\n",
       "<p>21636 rows × 15 columns</p>\n",
       "</div>"
      ],
      "text/plain": [
       "            Time       Ipv         Vpv         Vdc        ia        ib  \\\n",
       "0       0.000041  2.369843   90.429688  147.949219  0.616820 -0.530396   \n",
       "1       0.010040  2.378357   90.368652  148.242188 -0.678956  0.570679   \n",
       "2       0.020039  2.373627   90.460205  148.535156  0.603393 -0.537109   \n",
       "3       0.030038  2.368896   90.423584  148.242188 -0.685670  0.570679   \n",
       "4       0.040037  2.362274   90.435791  148.242188  0.630248 -0.523682   \n",
       "...          ...       ...         ...         ...       ...       ...   \n",
       "21631  14.358892  1.531647  102.056885  142.675781  0.354979 -0.503540   \n",
       "21632  14.368891  1.565704  101.104736  143.261719 -0.403687  0.523682   \n",
       "21633  14.378890  1.501373  101.556396  142.968750  0.361693 -0.530396   \n",
       "21634  14.388889  1.492859  100.970459  143.847656 -0.396974  0.537109   \n",
       "21635  14.398888  1.516510  102.166748  142.968750  0.348266 -0.523682   \n",
       "\n",
       "             ic          va          vb         vc      Iabc         If  \\\n",
       "0     -0.160283 -146.003418  120.255127  25.595601  1.000000  50.000000   \n",
       "1      0.047847  148.546906 -119.881439 -24.723663  1.000000  50.000000   \n",
       "2     -0.187139 -145.027008  120.315399  26.109924  1.000000  50.000000   \n",
       "3      0.041133  147.341461 -119.736786 -26.105906  0.440380  50.078491   \n",
       "4     -0.166997 -143.279114  120.942230  26.680501  0.618996  50.248673   \n",
       "...         ...         ...         ...        ...       ...        ...   \n",
       "21631  0.148555 -108.381500  152.585144 -40.760091  0.519110  50.036816   \n",
       "21632 -0.126714  110.756226 -149.559479  43.311615  0.519713  50.087054   \n",
       "21633  0.182124 -108.803406  152.319946 -40.470785  0.522856  50.138598   \n",
       "21634 -0.106572  110.720062 -150.451508  42.560221  0.525012  49.932554   \n",
       "21635  0.188838 -108.586426  151.524353 -41.503448  0.525349  49.924121   \n",
       "\n",
       "             Vabc         Vf label  \n",
       "0        1.000000  50.000000   F0M  \n",
       "1        1.000000  50.000000   F0M  \n",
       "2        1.000000  50.000000   F0M  \n",
       "3      118.275197  49.921509   F0M  \n",
       "4       90.022162  49.606494   F0M  \n",
       "...           ...        ...   ...  \n",
       "21631  155.672324  49.999645   F7L  \n",
       "21632  155.706972  49.992937   F7L  \n",
       "21633  155.636851  49.996147   F7L  \n",
       "21634  155.571019  50.008771   F7L  \n",
       "21635  155.553069  50.005752   F7L  \n",
       "\n",
       "[21636 rows x 15 columns]"
      ]
     },
     "execution_count": 3,
     "metadata": {},
     "output_type": "execute_result"
    }
   ],
   "source": [
    "df"
   ]
  },
  {
   "cell_type": "code",
   "execution_count": 13,
   "id": "3a04ade0",
   "metadata": {},
   "outputs": [
    {
     "data": {
      "text/plain": [
       "array(['F0M', 'F1M', 'F2M', 'F3M', 'F4M', 'F5M', 'F6M', 'F7M', 'F0L',\n",
       "       'F1L', 'F2L', 'F3L', 'F4L', 'F5L', 'F6L', 'F7L'], dtype=object)"
      ]
     },
     "execution_count": 13,
     "metadata": {},
     "output_type": "execute_result"
    }
   ],
   "source": [
    "df['label'].unique()"
   ]
  },
  {
   "cell_type": "markdown",
   "id": "161f1016",
   "metadata": {},
   "source": [
    "# Divide the dataset into Train-test split  and do the standard scalling"
   ]
  },
  {
   "cell_type": "code",
   "execution_count": 14,
   "id": "91df2463",
   "metadata": {},
   "outputs": [],
   "source": [
    "def split_transform(df,split_ratio):\n",
    "    X=df.iloc[:,1:-1]\n",
    "    Y=df.iloc[:,-1]\n",
    "    X_train,X_test,y_train,y_test = train_test_split(X,Y,test_size=split_ratio,shuffle=True)\n",
    "\n",
    "    scaler=StandardScaler()\n",
    "    X_sc_train = scaler.fit_transform(X_train)\n",
    "    X_sc_test = scaler.transform(X_test)\n",
    "\n",
    "    print(\"The number of samples in the Training set is {}\".format(len(X_sc_train)))\n",
    "    print(\"The number of samples in the Test set is {}\".format(len(X_sc_test)))\n",
    "    \n",
    "    return  X_sc_train, X_sc_test,y_train,y_test,scaler"
   ]
  },
  {
   "cell_type": "code",
   "execution_count": 15,
   "id": "49d229bd",
   "metadata": {},
   "outputs": [
    {
     "name": "stdout",
     "output_type": "stream",
     "text": [
      "The number of samples in the Training set is 21614\n",
      "The number of samples in the Test set is 22\n"
     ]
    }
   ],
   "source": [
    "X_sc_train, X_sc_test,y_train,y_test,scaler = split_transform(df,split_ratio=0.001)"
   ]
  },
  {
   "cell_type": "markdown",
   "id": "1bf06704",
   "metadata": {},
   "source": [
    "# Do Model training"
   ]
  },
  {
   "cell_type": "code",
   "execution_count": 7,
   "id": "2a8d0fec",
   "metadata": {},
   "outputs": [],
   "source": [
    "def Model_with_cross_val(df,clf,k_fold,test_size):\n",
    "    # Split transform the data\n",
    "    X_sc_train, X_sc_test,y_train,y_test,scaler = split_transform(df,split_ratio=0.01)\n",
    "    print(\"\")\n",
    "    #Generate k-fold with shuffled split\n",
    "    cv = ShuffleSplit(n_splits=k_fold, test_size=test_size)\n",
    "    \n",
    "    # get score for each split\n",
    "    scores = cross_val_score(clf, X_sc_train,y_train, cv=cv, n_jobs=-1)\n",
    "    \n",
    "    #print scores with mean and std\n",
    "    print(scores)\n",
    "    \n",
    "    print(\"{} accuracy with a standard deviation of {}\".format(np.mean(scores),np.std(scores)))\n",
    "    print(\"\")\n",
    "\n",
    "\n"
   ]
  },
  {
   "cell_type": "code",
   "execution_count": 16,
   "id": "ef0a5472",
   "metadata": {},
   "outputs": [
    {
     "name": "stdout",
     "output_type": "stream",
     "text": [
      "The number of samples in the Training set is 21419\n",
      "The number of samples in the Test set is 217\n",
      "\n",
      "[0.98397137 0.98630563 0.98770619 0.98459384 0.98677249]\n",
      "0.9858699035169624 accuracy with a standard deviation of 0.0013863092095437156\n",
      "\n"
     ]
    }
   ],
   "source": [
    "clf = RandomForestClassifier()\n",
    "Model_with_cross_val(df=df,clf=clf,k_fold=5,test_size=0.3)"
   ]
  },
  {
   "cell_type": "markdown",
   "id": "09955703",
   "metadata": {},
   "source": [
    "# Decision Trees"
   ]
  },
  {
   "cell_type": "code",
   "execution_count": 17,
   "id": "78058f6b",
   "metadata": {},
   "outputs": [
    {
     "name": "stdout",
     "output_type": "stream",
     "text": [
      "The number of samples in the Training set is 21419\n",
      "The number of samples in the Test set is 217\n",
      "\n",
      "[0.96483038 0.96016184 0.96451914 0.96016184 0.96374105]\n",
      "0.9626828509181451 accuracy with a standard deviation of 0.0020887596309446346\n",
      "\n"
     ]
    }
   ],
   "source": [
    "clf = DecisionTreeClassifier()\n",
    "Model_with_cross_val(df=df,clf=clf,k_fold=5,test_size=0.3)"
   ]
  },
  {
   "cell_type": "markdown",
   "id": "477bcc40",
   "metadata": {},
   "source": [
    "# SVM"
   ]
  },
  {
   "cell_type": "code",
   "execution_count": 18,
   "id": "f80816c5",
   "metadata": {},
   "outputs": [
    {
     "name": "stdout",
     "output_type": "stream",
     "text": [
      "The number of samples in the Training set is 21419\n",
      "The number of samples in the Test set is 217\n",
      "\n",
      "[0.94148771 0.94117647 0.93417367 0.94024276 0.94397759]\n",
      "0.9402116402116404 accuracy with a standard deviation of 0.0032618916916461542\n",
      "\n"
     ]
    }
   ],
   "source": [
    "clf = SVC()\n",
    "Model_with_cross_val(df=df,clf=clf,k_fold=5,test_size=0.3)"
   ]
  },
  {
   "cell_type": "markdown",
   "id": "53687291",
   "metadata": {},
   "source": [
    "# KNN"
   ]
  },
  {
   "cell_type": "code",
   "execution_count": 19,
   "id": "ba89c910",
   "metadata": {},
   "outputs": [
    {
     "name": "stdout",
     "output_type": "stream",
     "text": [
      "The number of samples in the Training set is 21419\n",
      "The number of samples in the Test set is 217\n",
      "\n",
      "[0.95362589 0.95440398 0.94989107 0.94833489 0.9475568 ]\n",
      "0.9507625272331154 accuracy with a standard deviation of 0.002770871007040763\n",
      "\n"
     ]
    }
   ],
   "source": [
    "clf = KNeighborsClassifier(n_neighbors=5)\n",
    "Model_with_cross_val(df=df,clf=clf,k_fold=5,test_size=0.3)"
   ]
  },
  {
   "cell_type": "markdown",
   "id": "92192b83",
   "metadata": {},
   "source": [
    "# Logistic Reg"
   ]
  },
  {
   "cell_type": "code",
   "execution_count": 20,
   "id": "0b16580b",
   "metadata": {},
   "outputs": [
    {
     "name": "stdout",
     "output_type": "stream",
     "text": [
      "The number of samples in the Training set is 21419\n",
      "The number of samples in the Test set is 217\n",
      "\n",
      "[0.74338624 0.73498288 0.73607221 0.7482104  0.74696545]\n",
      "0.7419234360410831 accuracy with a standard deviation of 0.005468011891496283\n",
      "\n"
     ]
    }
   ],
   "source": [
    "clf = LogisticRegression()\n",
    "Model_with_cross_val(df=df,clf=clf,k_fold=5,test_size=0.3)"
   ]
  },
  {
   "cell_type": "markdown",
   "id": "6a0e84ad",
   "metadata": {},
   "source": [
    "# Do prediction with best performing Model"
   ]
  },
  {
   "cell_type": "code",
   "execution_count": 21,
   "id": "ead58307",
   "metadata": {},
   "outputs": [
    {
     "name": "stdout",
     "output_type": "stream",
     "text": [
      "The number of samples in the Training set is 17308\n",
      "The number of samples in the Test set is 4328\n"
     ]
    },
    {
     "data": {
      "text/plain": [
       "<sklearn.metrics._plot.confusion_matrix.ConfusionMatrixDisplay at 0x147af7427f0>"
      ]
     },
     "execution_count": 21,
     "metadata": {},
     "output_type": "execute_result"
    },
    {
     "data": {
      "image/png": "[encoded data removed]",
      "text/plain": [
       "<Figure size 720x720 with 2 Axes>"
      ]
     },
     "metadata": {
      "needs_background": "light"
     },
     "output_type": "display_data"
    },
    {
     "data": {
      "image/png": "[encoded data removed]",
      "text/plain": [
       "<Figure size 432x288 with 2 Axes>"
      ]
     },
     "metadata": {
      "needs_background": "light"
     },
     "output_type": "display_data"
    }
   ],
   "source": [
    "X_sc_train, X_sc_test,y_train,y_test,scaler = split_transform(df,split_ratio=0.2)\n",
    "\n",
    "Model = RandomForestClassifier()\n",
    "Model.fit(X_sc_train,y_train)\n",
    "\n",
    "fig, ax = plt.subplots(figsize=(10,10))\n",
    "disp = ConfusionMatrixDisplay.from_estimator(\n",
    "    Model,\n",
    "    X_sc_test,\n",
    "    y_test,\n",
    "    display_labels=Model.classes_,\n",
    "    cmap=plt.cm.Reds\n",
    ")\n",
    "\n",
    "\n",
    "disp.plot(ax=ax)\n"
   ]
  },
  {
   "cell_type": "markdown",
   "id": "8872f524",
   "metadata": {},
   "source": [
    "# -------------------------------------- We will reduce the features to 7-faults -------------"
   ]
  },
  {
   "cell_type": "markdown",
   "id": "7e8c61cd",
   "metadata": {},
   "source": [
    "## ['F0', 'F1', 'F2', 'F3', 'F4', 'F5', 'F6', 'F7']"
   ]
  },
  {
   "cell_type": "markdown",
   "id": "9c42561b",
   "metadata": {},
   "source": [
    "# Making Categorical Variable of L and M"
   ]
  },
  {
   "cell_type": "code",
   "execution_count": 35,
   "id": "1cb9f551",
   "metadata": {},
   "outputs": [],
   "source": [
    "df1=pd.read_csv(r'H:\\Solar_panel_IFD\\PreProcessed Data\\Max_solar_data.csv')\n",
    "df2=pd.read_csv(r'H:\\Solar_panel_IFD\\PreProcessed Data\\Lim_solar_data.csv')"
   ]
  },
  {
   "cell_type": "code",
   "execution_count": 36,
   "id": "84751b49",
   "metadata": {},
   "outputs": [
    {
     "name": "stderr",
     "output_type": "stream",
     "text": [
      "C:\\Users\\mohan\\AppData\\Local\\Temp/ipykernel_11784/2509062435.py:4: SettingWithCopyWarning: \n",
      "A value is trying to be set on a copy of a slice from a DataFrame\n",
      "\n",
      "See the caveats in the documentation: https://pandas.pydata.org/pandas-docs/stable/user_guide/indexing.html#returning-a-view-versus-a-copy\n",
      "  df1['label'][i] = cls\n",
      "C:\\Users\\mohan\\AppData\\Local\\Temp/ipykernel_11784/2509062435.py:10: SettingWithCopyWarning: \n",
      "A value is trying to be set on a copy of a slice from a DataFrame\n",
      "\n",
      "See the caveats in the documentation: https://pandas.pydata.org/pandas-docs/stable/user_guide/indexing.html#returning-a-view-versus-a-copy\n",
      "  df2['label'][i] = cls\n"
     ]
    }
   ],
   "source": [
    "for i in range (len(df1)):    \n",
    "    cls = df1['label'][i]\n",
    "    cls = cls[:-1]\n",
    "    df1['label'][i] = cls\n",
    "df1.insert(1, \"mode\", 0)    \n",
    "    \n",
    "for i in range (len(df2)):    \n",
    "    cls = df2['label'][i]\n",
    "    cls = cls[:-1]\n",
    "    df2['label'][i] = cls    \n",
    "    \n",
    "df2.insert(1, \"mode\", 1)    "
   ]
  },
  {
   "cell_type": "code",
   "execution_count": 37,
   "id": "bafe2966",
   "metadata": {
    "scrolled": true
   },
   "outputs": [
    {
     "data": {
      "text/html": [
       "<div>\n",
       "<style scoped>\n",
       "    .dataframe tbody tr th:only-of-type {\n",
       "        vertical-align: middle;\n",
       "    }\n",
       "\n",
       "    .dataframe tbody tr th {\n",
       "        vertical-align: top;\n",
       "    }\n",
       "\n",
       "    .dataframe thead th {\n",
       "        text-align: right;\n",
       "    }\n",
       "</style>\n",
       "<table border=\"1\" class=\"dataframe\">\n",
       "  <thead>\n",
       "    <tr style=\"text-align: right;\">\n",
       "      <th></th>\n",
       "      <th>Time</th>\n",
       "      <th>mode</th>\n",
       "      <th>Ipv</th>\n",
       "      <th>Vpv</th>\n",
       "      <th>Vdc</th>\n",
       "      <th>ia</th>\n",
       "      <th>ib</th>\n",
       "      <th>ic</th>\n",
       "      <th>va</th>\n",
       "      <th>vb</th>\n",
       "      <th>vc</th>\n",
       "      <th>Iabc</th>\n",
       "      <th>If</th>\n",
       "      <th>Vabc</th>\n",
       "      <th>Vf</th>\n",
       "      <th>label</th>\n",
       "    </tr>\n",
       "  </thead>\n",
       "  <tbody>\n",
       "    <tr>\n",
       "      <th>0</th>\n",
       "      <td>0.000041</td>\n",
       "      <td>0</td>\n",
       "      <td>2.369843</td>\n",
       "      <td>90.429688</td>\n",
       "      <td>147.949219</td>\n",
       "      <td>0.616820</td>\n",
       "      <td>-0.530396</td>\n",
       "      <td>-0.160283</td>\n",
       "      <td>-146.003418</td>\n",
       "      <td>120.255127</td>\n",
       "      <td>25.595601</td>\n",
       "      <td>1.000000</td>\n",
       "      <td>50.000000</td>\n",
       "      <td>1.000000</td>\n",
       "      <td>50.000000</td>\n",
       "      <td>F0</td>\n",
       "    </tr>\n",
       "    <tr>\n",
       "      <th>1</th>\n",
       "      <td>0.010040</td>\n",
       "      <td>0</td>\n",
       "      <td>2.378357</td>\n",
       "      <td>90.368652</td>\n",
       "      <td>148.242188</td>\n",
       "      <td>-0.678956</td>\n",
       "      <td>0.570679</td>\n",
       "      <td>0.047847</td>\n",
       "      <td>148.546906</td>\n",
       "      <td>-119.881439</td>\n",
       "      <td>-24.723663</td>\n",
       "      <td>1.000000</td>\n",
       "      <td>50.000000</td>\n",
       "      <td>1.000000</td>\n",
       "      <td>50.000000</td>\n",
       "      <td>F0</td>\n",
       "    </tr>\n",
       "    <tr>\n",
       "      <th>2</th>\n",
       "      <td>0.020039</td>\n",
       "      <td>0</td>\n",
       "      <td>2.373627</td>\n",
       "      <td>90.460205</td>\n",
       "      <td>148.535156</td>\n",
       "      <td>0.603393</td>\n",
       "      <td>-0.537109</td>\n",
       "      <td>-0.187139</td>\n",
       "      <td>-145.027008</td>\n",
       "      <td>120.315399</td>\n",
       "      <td>26.109924</td>\n",
       "      <td>1.000000</td>\n",
       "      <td>50.000000</td>\n",
       "      <td>1.000000</td>\n",
       "      <td>50.000000</td>\n",
       "      <td>F0</td>\n",
       "    </tr>\n",
       "    <tr>\n",
       "      <th>3</th>\n",
       "      <td>0.030038</td>\n",
       "      <td>0</td>\n",
       "      <td>2.368896</td>\n",
       "      <td>90.423584</td>\n",
       "      <td>148.242188</td>\n",
       "      <td>-0.685670</td>\n",
       "      <td>0.570679</td>\n",
       "      <td>0.041133</td>\n",
       "      <td>147.341461</td>\n",
       "      <td>-119.736786</td>\n",
       "      <td>-26.105906</td>\n",
       "      <td>0.440380</td>\n",
       "      <td>50.078491</td>\n",
       "      <td>118.275197</td>\n",
       "      <td>49.921509</td>\n",
       "      <td>F0</td>\n",
       "    </tr>\n",
       "    <tr>\n",
       "      <th>4</th>\n",
       "      <td>0.040037</td>\n",
       "      <td>0</td>\n",
       "      <td>2.362274</td>\n",
       "      <td>90.435791</td>\n",
       "      <td>148.242188</td>\n",
       "      <td>0.630248</td>\n",
       "      <td>-0.523682</td>\n",
       "      <td>-0.166997</td>\n",
       "      <td>-143.279114</td>\n",
       "      <td>120.942230</td>\n",
       "      <td>26.680501</td>\n",
       "      <td>0.618996</td>\n",
       "      <td>50.248673</td>\n",
       "      <td>90.022162</td>\n",
       "      <td>49.606494</td>\n",
       "      <td>F0</td>\n",
       "    </tr>\n",
       "  </tbody>\n",
       "</table>\n",
       "</div>"
      ],
      "text/plain": [
       "       Time  mode       Ipv        Vpv         Vdc        ia        ib  \\\n",
       "0  0.000041     0  2.369843  90.429688  147.949219  0.616820 -0.530396   \n",
       "1  0.010040     0  2.378357  90.368652  148.242188 -0.678956  0.570679   \n",
       "2  0.020039     0  2.373627  90.460205  148.535156  0.603393 -0.537109   \n",
       "3  0.030038     0  2.368896  90.423584  148.242188 -0.685670  0.570679   \n",
       "4  0.040037     0  2.362274  90.435791  148.242188  0.630248 -0.523682   \n",
       "\n",
       "         ic          va          vb         vc      Iabc         If  \\\n",
       "0 -0.160283 -146.003418  120.255127  25.595601  1.000000  50.000000   \n",
       "1  0.047847  148.546906 -119.881439 -24.723663  1.000000  50.000000   \n",
       "2 -0.187139 -145.027008  120.315399  26.109924  1.000000  50.000000   \n",
       "3  0.041133  147.341461 -119.736786 -26.105906  0.440380  50.078491   \n",
       "4 -0.166997 -143.279114  120.942230  26.680501  0.618996  50.248673   \n",
       "\n",
       "         Vabc         Vf label  \n",
       "0    1.000000  50.000000    F0  \n",
       "1    1.000000  50.000000    F0  \n",
       "2    1.000000  50.000000    F0  \n",
       "3  118.275197  49.921509    F0  \n",
       "4   90.022162  49.606494    F0  "
      ]
     },
     "execution_count": 37,
     "metadata": {},
     "output_type": "execute_result"
    }
   ],
   "source": [
    "df = pd.concat([df1,df2], ignore_index=True, axis=0)\n",
    "#df = df.drop(columns=['ia','ib','ic'])# Drop highly correlated features\n",
    "df.head()"
   ]
  },
  {
   "cell_type": "code",
   "execution_count": 38,
   "id": "18201890",
   "metadata": {},
   "outputs": [
    {
     "data": {
      "text/plain": [
       "array([0, 1], dtype=int64)"
      ]
     },
     "execution_count": 38,
     "metadata": {},
     "output_type": "execute_result"
    }
   ],
   "source": [
    "df['mode'].unique()"
   ]
  },
  {
   "cell_type": "code",
   "execution_count": 39,
   "id": "378f0796",
   "metadata": {},
   "outputs": [
    {
     "name": "stdout",
     "output_type": "stream",
     "text": [
      "Random Forest\n",
      "The number of samples in the Training set is 21419\n",
      "The number of samples in the Test set is 217\n",
      "\n",
      "[0.98661687 0.9869281  0.98552754 0.98646125 0.98755058]\n",
      "0.9866168689698102 accuracy with a standard deviation of 0.0006602304212759419\n",
      "\n",
      "\n",
      "Decision Tree\n",
      "The number of samples in the Training set is 21419\n",
      "The number of samples in the Test set is 217\n",
      "\n",
      "[0.96140678 0.96374105 0.96981015 0.96514161 0.96794273]\n",
      "0.9656084656084655 accuracy with a standard deviation of 0.0029820204337387963\n",
      "\n",
      "\n",
      "Support Vector Machines\n",
      "The number of samples in the Training set is 21419\n",
      "The number of samples in the Test set is 217\n",
      "\n",
      "[0.93744164 0.94164332 0.94070962 0.94288827 0.93899782]\n",
      "0.9403361344537814 accuracy with a standard deviation of 0.001925137515616829\n",
      "\n",
      "\n",
      "KNN\n",
      "The number of samples in the Training set is 21419\n",
      "The number of samples in the Test set is 217\n",
      "\n",
      "[0.95331466 0.95409275 0.94989107 0.95502646 0.95066916]\n",
      "0.9525988173046998 accuracy with a standard deviation of 0.0019845998838381312\n",
      "\n",
      "\n",
      "Logistic Regression\n",
      "The number of samples in the Training set is 21419\n",
      "The number of samples in the Test set is 217\n",
      "\n",
      "[0.63227513 0.62215998 0.63881108 0.6372549  0.63258637]\n",
      "0.6326174914410209 accuracy with a standard deviation of 0.005819689714849705\n",
      "\n",
      "\n",
      "Naive Byes\n",
      "The number of samples in the Training set is 21419\n",
      "The number of samples in the Test set is 217\n",
      "\n",
      "[0.59290383 0.57220666 0.56613757 0.55213196 0.5681606 ]\n",
      "0.5703081232492997 accuracy with a standard deviation of 0.013164714258696995\n",
      "\n"
     ]
    }
   ],
   "source": [
    "print(\"Random Forest\")\n",
    "clf = RandomForestClassifier()\n",
    "Model_with_cross_val(df=df,clf=clf,k_fold=5,test_size=0.3)\n",
    "print(\"\")\n",
    "print(\"Decision Tree\")\n",
    "clf = DecisionTreeClassifier()\n",
    "Model_with_cross_val(df=df,clf=clf,k_fold=5,test_size=0.3)\n",
    "print(\"\")\n",
    "print(\"Support Vector Machines\")\n",
    "clf = SVC()\n",
    "Model_with_cross_val(df=df,clf=clf,k_fold=5,test_size=0.3)\n",
    "print(\"\")\n",
    "print(\"KNN\")\n",
    "clf = KNeighborsClassifier(n_neighbors=5)\n",
    "Model_with_cross_val(df=df,clf=clf,k_fold=5,test_size=0.3)\n",
    "print(\"\")\n",
    "print(\"Logistic Regression\")\n",
    "clf = LogisticRegression()\n",
    "Model_with_cross_val(df=df,clf=clf,k_fold=5,test_size=0.3)\n",
    "print(\"\")\n",
    "print(\"Naive Byes\")\n",
    "clf = GaussianNB()\n",
    "Model_with_cross_val(df=df,clf=clf,k_fold=5,test_size=0.3)"
   ]
  },
  {
   "cell_type": "code",
   "execution_count": 95,
   "id": "13c0f3b5",
   "metadata": {},
   "outputs": [
    {
     "name": "stdout",
     "output_type": "stream",
     "text": [
      "The number of samples in the Training set is 15145\n",
      "The number of samples in the Test set is 6491\n"
     ]
    },
    {
     "data": {
      "text/plain": [
       "<sklearn.metrics._plot.confusion_matrix.ConfusionMatrixDisplay at 0x21057208130>"
      ]
     },
     "execution_count": 95,
     "metadata": {},
     "output_type": "execute_result"
    },
    {
     "data": {
      "image/png": "[encoded data removed]",
      "text/plain": [
       "<Figure size 720x720 with 2 Axes>"
      ]
     },
     "metadata": {
      "needs_background": "light"
     },
     "output_type": "display_data"
    },
    {
     "data": {
      "image/png": "[encoded data removed]",
      "text/plain": [
       "<Figure size 432x288 with 2 Axes>"
      ]
     },
     "metadata": {
      "needs_background": "light"
     },
     "output_type": "display_data"
    }
   ],
   "source": [
    "X_sc_train, X_sc_test,y_train,y_test,scaler = split_transform(df,split_ratio=0.3)\n",
    "\n",
    "Model = RandomForestClassifier()\n",
    "Model.fit(X_sc_train,y_train)\n",
    "\n",
    "fig, ax = plt.subplots(figsize=(10,10))\n",
    "disp = ConfusionMatrixDisplay.from_estimator(\n",
    "    Model,\n",
    "    X_sc_test,\n",
    "    y_test,\n",
    "    display_labels=Model.classes_\n",
    ")\n",
    "\n",
    "\n",
    "\n"
   ]
  },
  {
   "cell_type": "code",
   "execution_count": null,
   "id": "c6e82359",
   "metadata": {},
   "outputs": [],
   "source": []
  },
  {
   "cell_type": "code",
   "execution_count": null,
   "id": "64ce6d9f",
   "metadata": {},
   "outputs": [],
   "source": []
  }
 ],
 "metadata": {
  "kernelspec": {
   "display_name": "Python 3.8 (tensorflow)",
   "language": "python",
   "name": "tensorflow"
  },
  "language_info": {
   "codemirror_mode": {
    "name": "ipython",
    "version": 3
   },
   "file_extension": ".py",
   "mimetype": "text/x-python",
   "name": "python",
   "nbconvert_exporter": "python",
   "pygments_lexer": "ipython3",
   "version": "3.8.12"
  }
 },
 "nbformat": 4,
 "nbformat_minor": 5
}
